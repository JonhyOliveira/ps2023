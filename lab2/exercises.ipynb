{
 "cells": [
  {
   "attachments": {},
   "cell_type": "markdown",
   "metadata": {},
   "source": [
    "# Setup"
   ]
  },
  {
   "cell_type": "code",
   "execution_count": 1,
   "metadata": {},
   "outputs": [
    {
     "data": {
      "text/plain": [
       "'/home/joaooliv/.local/lib/python3.10/site-packages/pyspark'"
      ]
     },
     "execution_count": 1,
     "metadata": {},
     "output_type": "execute_result"
    }
   ],
   "source": [
    "# imports\n",
    "\n",
    "import findspark\n",
    "import pyspark\n",
    "from pyspark.streaming import StreamingContext\n",
    "\n",
    "findspark.init()\n",
    "findspark.find()"
   ]
  },
  {
   "cell_type": "code",
   "execution_count": 12,
   "metadata": {},
   "outputs": [],
   "source": [
    "# dropping context\n",
    "\n",
    "if 'sc' in locals():\n",
    "    sc.stop()\n",
    "if 'ssc' in locals() :\n",
    "    ssc.stop()\n",
    "\n",
    "# setting up context\n",
    "\n",
    "sc = pyspark.SparkContext(\"local[*]\")\n",
    "sc.setLogLevel(\"FATAL\")\n",
    "ssc = StreamingContext(sc, 1) # 1 sec mini-batches\n",
    "\n",
    "ssc.checkpoint(directory=\"spark_checkpoints\")"
   ]
  },
  {
   "cell_type": "markdown",
   "metadata": {
    "id": "THPCe5kkaEr-"
   },
   "source": [
    "---\n",
    "# Exercises\n",
    "\n",
    "## Exercise 1\n",
    "\n",
    "In a denial-of-service event it is important to identify the IP sources that might be attacking the system, by issuing a large number of requests.\n",
    "\n",
    "Write a program to find the IP sources that have done more than 50 requests in the last 10 seconds -- dump this information every 5 seconds. \n"
   ]
  },
  {
   "cell_type": "code",
   "execution_count": null,
   "metadata": {
    "id": "Dtav45IoQDzy"
   },
   "outputs": [],
   "source": [
    "lines = ssc.socketTextStream(\"localhost\", 7777)\n",
    "\n",
    "lines.filter(lambda line: len(line) > 0)\\\n",
    "    .map(lambda line: line.split(\" \")[1])\\\n",
    "    .countByValueAndWindow(10, 5)\\\n",
    "    .filter(lambda count: count[1] > 50)\\\n",
    "    .pprint()\n",
    "\n",
    "ssc.start()\n",
    "ssc.awaitTermination(60)\n",
    "ssc.stop()"
   ]
  },
  {
   "cell_type": "markdown",
   "metadata": {
    "id": "ZmM2Ey9YQEQw"
   },
   "source": [
    "## Exercise 2\n",
    "\n",
    "#### a)\n",
    "Write a program to dump the number of requests, minimum processing time, maximum processing time for request in the last 10 seconds, **for all** source IPs that performed more than 100 requests -- dump this information every 5 second.  "
   ]
  },
  {
   "cell_type": "code",
   "execution_count": null,
   "metadata": {
    "id": "4003eAI6QL86"
   },
   "outputs": [],
   "source": [
    "lines = ssc.socketTextStream(\"localhost\", 7777)\n",
    "\n",
    "more_than_100 = lines.filter(lambda line: len(line) > 0)\\\n",
    "    .map(lambda line: line.split(\" \")[1])\\\n",
    "    .countByValueAndWindow(10, 5)\\\n",
    "    .filter(lambda count: count[1] > 100)\n",
    "\n",
    "metrics = lines.filter(lambda line: len(line) > 0)\\\n",
    "    .map(lambda line: line.split(\" \"))\\\n",
    "    .map(lambda values: (values[1], (1, float(values[5]), float(values[5]))))\\\n",
    "    .reduceByKeyAndWindow(lambda rt1, rt2: (rt1[0] + rt2[0], max(rt1[1], rt2[1]), min(rt1[2], rt2[2])), None, 10, 5)\n",
    "\n",
    "more_than_100.leftOuterJoin(metrics).pprint()\n",
    "\n",
    "ssc.start()\n",
    "ssc.awaitTermination(50)\n",
    "ssc.stop()"
   ]
  },
  {
   "cell_type": "markdown",
   "metadata": {
    "id": "prmPPodzDwL6"
   },
   "source": [
    "#### b)\n",
    "\n",
    "Write a program to dump the number of requests, minimum processing time, maximum processing time for request in the last 10 seconds, **only if at least one** source IP has performed more than 100 requests -- dump this information every 5 second."
   ]
  },
  {
   "cell_type": "code",
   "execution_count": 11,
   "metadata": {
    "id": "NLXgZnC_DwoP"
   },
   "outputs": [
    {
     "name": "stderr",
     "output_type": "stream",
     "text": [
      "                                                                                \r"
     ]
    },
    {
     "name": "stdout",
     "output_type": "stream",
     "text": [
      "-------------------------------------------\n",
      "Time: 2023-03-20 17:57:20\n",
      "-------------------------------------------\n",
      "\n"
     ]
    },
    {
     "name": "stderr",
     "output_type": "stream",
     "text": [
      "                                                                                \r"
     ]
    },
    {
     "name": "stdout",
     "output_type": "stream",
     "text": [
      "-------------------------------------------\n",
      "Time: 2023-03-20 17:57:25\n",
      "-------------------------------------------\n",
      "('120.52.73.98', (58.278, 0.126))\n",
      "('185.28.193.95', (42.547, 0.013))\n",
      "('192.241.151.220', (64.08, 0.055))\n",
      "('2a01:488:66:1000:5c33:8503:0:1', (56.966, 0.028))\n",
      "('2a02:c207:2008:5757::1', (42.167, 2.674))\n",
      "('97.77.104.22', (59.513, 0.065))\n",
      "('211.140.26.58', (57.435, 0.126))\n",
      "('2602:ff62:104:7c9:8000::', (48.317, 0.159))\n",
      "('202.106.16.36', (57.905, 0.17))\n",
      "('2001:41d0:8:e7b5::1', (46.603, 46.603))\n",
      "...\n",
      "\n"
     ]
    },
    {
     "name": "stderr",
     "output_type": "stream",
     "text": [
      "                                                                                \r"
     ]
    },
    {
     "name": "stdout",
     "output_type": "stream",
     "text": [
      "-------------------------------------------\n",
      "Time: 2023-03-20 17:57:30\n",
      "-------------------------------------------\n",
      "('120.52.73.98', (66.036, 0.126))\n",
      "('192.241.151.220', (64.08, 0.078))\n",
      "('185.28.193.95', (69.654, 0.014))\n",
      "('31.14.134.193', (0.274, 0.274))\n",
      "('2a01:488:66:1000:5c33:8503:0:1', (56.966, 0.028))\n",
      "('2a02:c207:2008:5757::1', (64.871, 0.132))\n",
      "('97.77.104.22', (65.789, 0.065))\n",
      "('202.106.16.36', (66.13, 0.17))\n",
      "('2602:ff62:104:7c9:8000::', (63.304, 0.121))\n",
      "('211.140.26.58', (65.395, 0.223))\n",
      "...\n",
      "\n"
     ]
    },
    {
     "name": "stderr",
     "output_type": "stream",
     "text": [
      "                                                                                \r"
     ]
    },
    {
     "name": "stdout",
     "output_type": "stream",
     "text": [
      "-------------------------------------------\n",
      "Time: 2023-03-20 17:57:35\n",
      "-------------------------------------------\n",
      "('120.52.73.98', (70.609, 0.127))\n",
      "('82.146.37.33', (68.41, 0.102))\n",
      "('192.241.151.220', (70.172, 0.078))\n",
      "('185.28.193.95', (75.759, 0.014))\n",
      "('31.14.134.193', (0.274, 0.274))\n",
      "('2a01:488:66:1000:5c33:8503:0:1', (69.566, 0.113))\n",
      "('2a02:c207:2008:5757::1', (64.871, 0.132))\n",
      "('61.132.241.109', (53.475, 53.475))\n",
      "('97.77.104.22', (70.108, 0.066))\n",
      "('202.106.16.36', (69.813, 0.176))\n",
      "...\n",
      "\n"
     ]
    },
    {
     "name": "stderr",
     "output_type": "stream",
     "text": [
      "                                                                                \r"
     ]
    },
    {
     "name": "stdout",
     "output_type": "stream",
     "text": [
      "-------------------------------------------\n",
      "Time: 2023-03-20 17:57:40\n",
      "-------------------------------------------\n",
      "('120.52.73.98', (72.538, 0.127))\n",
      "('82.146.37.33', (71.582, 0.102))\n",
      "('180.234.223.91', (56.729, 56.729))\n",
      "('185.28.193.95', (80.846, 0.017))\n",
      "('192.241.151.220', (71.891, 0.091))\n",
      "('2a01:488:66:1000:5c33:8503:0:1', (71.428, 0.074))\n",
      "('61.132.241.109', (53.475, 53.475))\n",
      "('198.50.206.0', (71.29, 0.237))\n",
      "('97.77.104.22', (72.583, 0.087))\n",
      "('202.106.16.36', (72.502, 0.128))\n",
      "...\n",
      "\n"
     ]
    },
    {
     "name": "stderr",
     "output_type": "stream",
     "text": [
      "                                                                                \r"
     ]
    },
    {
     "name": "stdout",
     "output_type": "stream",
     "text": [
      "-------------------------------------------\n",
      "Time: 2023-03-20 17:57:45\n",
      "-------------------------------------------\n",
      "('120.52.73.98', (73.801, 0.127))\n",
      "('82.146.37.33', (73.495, 0.15))\n",
      "('180.234.223.91', (73.598, 56.729))\n",
      "('192.241.151.220', (71.891, 0.091))\n",
      "('185.28.193.95', (80.846, 0.017))\n",
      "('2a01:488:66:1000:5c33:8503:0:1', (72.477, 0.074))\n",
      "('198.50.206.0', (73.712, 0.146))\n",
      "('202.106.16.36', (73.779, 0.128))\n",
      "('97.77.104.22', (73.6, 0.106))\n",
      "('2001:41d0:8:e7b5::1', (72.566, 0.114))\n",
      "...\n",
      "\n"
     ]
    },
    {
     "name": "stderr",
     "output_type": "stream",
     "text": [
      "Exception in thread \"receiver-supervisor-future-0\" java.lang.InterruptedException: sleep interrupted\n",
      "\tat java.base/java.lang.Thread.sleep(Native Method)\n",
      "\tat org.apache.spark.streaming.receiver.ReceiverSupervisor.$anonfun$restartReceiver$1(ReceiverSupervisor.scala:196)\n",
      "\tat scala.runtime.java8.JFunction0$mcV$sp.apply(JFunction0$mcV$sp.java:23)\n",
      "\tat scala.concurrent.Future$.$anonfun$apply$1(Future.scala:659)\n",
      "\tat scala.util.Success.$anonfun$map$1(Try.scala:255)\n",
      "\tat scala.util.Success.map(Try.scala:213)\n",
      "\tat scala.concurrent.Future.$anonfun$map$1(Future.scala:292)\n",
      "\tat scala.concurrent.impl.Promise.liftedTree1$1(Promise.scala:33)\n",
      "\tat scala.concurrent.impl.Promise.$anonfun$transform$1(Promise.scala:33)\n",
      "\tat scala.concurrent.impl.CallbackRunnable.run(Promise.scala:64)\n",
      "\tat java.base/java.util.concurrent.ThreadPoolExecutor.runWorker(ThreadPoolExecutor.java:1136)\n",
      "\tat java.base/java.util.concurrent.ThreadPoolExecutor$Worker.run(ThreadPoolExecutor.java:635)\n",
      "\tat java.base/java.lang.Thread.run(Thread.java:833)\n"
     ]
    },
    {
     "name": "stdout",
     "output_type": "stream",
     "text": [
      "-------------------------------------------\n",
      "Time: 2023-03-20 17:57:50\n",
      "-------------------------------------------\n",
      "('120.52.73.98', (76.098, 0.126))\n",
      "('82.146.37.33', (73.495, 72.396))\n",
      "('180.234.223.91', (73.598, 73.598))\n",
      "('185.15.43.51', (75.487, 75.487))\n",
      "('185.28.193.95', (75.967, 0.035))\n",
      "('192.241.151.220', (75.823, 0.394))\n",
      "('31.14.134.193', (75.83, 58.503))\n",
      "('198.50.206.0', (75.798, 0.146))\n",
      "('2a01:488:66:1000:5c33:8503:0:1', (75.62, 0.135))\n",
      "('2a02:c207:2008:5757::1', (75.395, 0.299))\n",
      "...\n",
      "\n"
     ]
    },
    {
     "name": "stderr",
     "output_type": "stream",
     "text": [
      "[Stage 230:>                                                      (0 + 12) / 12]\r"
     ]
    }
   ],
   "source": [
    "lines = ssc.socketTextStream(\"localhost\", 7777)\n",
    "\n",
    "ip_count = lines.filter(lambda line: len(line) > 0)\\\n",
    "    .map(lambda line: line.split(\" \")[1])\\\n",
    "    .countByValueAndWindow(10, 5)\n",
    "\n",
    "metrics = lines.filter(lambda line: len(line) > 0)\\\n",
    "    .map(lambda line: line.split(\" \"))\\\n",
    "    .map(lambda values: (values[1], (1, float(values[5]), float(values[5]))))\\\n",
    "    .reduceByKeyAndWindow(lambda rt1, rt2: (rt1[0] + rt2[0], max(rt1[1], rt2[1]), min(rt1[2], rt2[2])), None, 10, 5)\n",
    "\n",
    "ip_count.map(lambda t: (None, t[1] > 100)).reduceByKey(lambda b1, b2: b1 or b2).join(metrics.map(lambda t: (None, t)))\\\n",
    "    .filter(lambda t: t[1][0] == True).map(lambda t: t[1][1]).pprint()\n",
    "    #.filter(lambda t: ).map(lambda t: t[1][1])\n",
    "\n",
    "ssc.start()\n",
    "ssc.awaitTermination(50)\n",
    "ssc.stop()"
   ]
  },
  {
   "cell_type": "markdown",
   "metadata": {
    "id": "5yy3_7xpQMew"
   },
   "source": [
    "## Exercise 3\n",
    "Write a program to dump the IP sources that deviate most from the average in terms of the number of requests made in the last 30 seconds - dump this information every 5 seconds."
   ]
  },
  {
   "cell_type": "code",
   "execution_count": null,
   "metadata": {
    "id": "XegUvrgiQRfM"
   },
   "outputs": [],
   "source": [
    "lines = ssc.socketTextStream(\"localhost\", 7777)\n",
    "\n",
    "\n",
    "ip_request_count = lines.filter(lambda line: len(line) > 0)\\\n",
    "    .map(lambda line: line.split(\" \")[1])\\\n",
    "    .countByValueAndWindow(10, 5)\n",
    "\n",
    "request_per_ip = ip_request_count\\\n",
    "    .transform(lambda rdd: rdd.zipWithIndex().map(lambda t: (t[0][1], t[1])))\\\n",
    "    .reduce(lambda t1, t2: (t1[0] + t2[0], max(t1[1], t2[1])))\\\n",
    "    .map(lambda t: t[0] / t[1])\n",
    "\n",
    "ip_request_count\\\n",
    "    .map(lambda t: (None, t))\\\n",
    "    .leftOuterJoin(request_per_ip.map(lambda t: (None, t)))\\\n",
    "    .map(lambda t: (t[1][0][0], (t[1][0][1], t[1][1])))\\\n",
    "    .mapValues(lambda t: ((t[0] - t[1])/t[1]) if (t[1] not in [0, None]) else 0)\\\n",
    "    .filter(lambda t: t[1] > 1)\\\n",
    "    .transform(lambda rdd: rdd.sortBy(lambda t: t[1], ascending=False))\\\n",
    "    .pprint()\n",
    "\n",
    "# here we can map ip_request_count and request_per_ip to have None as key and join them and then map back to normal\n",
    "\n",
    "ssc.start()\n",
    "ssc.awaitTermination(50)\n",
    "ssc.stop()"
   ]
  },
  {
   "cell_type": "markdown",
   "metadata": {
    "id": "B3Wg5aecQSFM"
   },
   "source": [
    "## Exercise 4\n",
    "\n",
    "Run additional logsender servers for subsets of the logs (IPv4 and IPv6 logs), using the following commands.\n",
    "\n",
    "```\n",
    "!nohup python logsender/server.py logsender/webipv4.log 7778 > /dev/null 2> /dev/null &\n",
    "!nohup python logsender/server.py logsender/webipv6.log 7779 > /dev/null 2> /dev/null &\n",
    "```\n",
    "\n",
    "Write a program that combines the two streams, dumping the number of requests made in the last 15 seconds - dump this information every 5 seconds."
   ]
  },
  {
   "cell_type": "code",
   "execution_count": null,
   "metadata": {
    "id": "nqCtmOZwRfUi"
   },
   "outputs": [],
   "source": [
    "lines_ipv4 = ssc.socketTextStream(\"localhost\", 7778)\n",
    "lines_ipv6 = ssc.socketTextStream(\"localhost\", 7779)\n",
    "\n",
    "lines_ipv4.countByWindow(15, 5).map(lambda count: (None, count))\\\n",
    "    .join(lines_ipv6.countByWindow(15, 5).map(lambda count: (None, count)))\\\n",
    "    .map(lambda t: sum(t[1]))\\\n",
    "    .map(lambda count: f\"Total count is: {count}\").pprint()\n",
    "\n",
    "ssc.start()\n",
    "ssc.awaitTermination(20)\n",
    "ssc.stop()"
   ]
  },
  {
   "cell_type": "markdown",
   "metadata": {
    "id": "ALselcFrRuYA"
   },
   "source": [
    "## Exercise 5\n",
    "\n",
    "Write a program that combines the two streams from the previous exercise and dumps the proportion of IPv4 vs IPv6 requests in the last 20 seconds - dump this information every 5 seconds.\n"
   ]
  },
  {
   "cell_type": "code",
   "execution_count": null,
   "metadata": {
    "id": "3ZcmfAVlR63v"
   },
   "outputs": [],
   "source": [
    "lines_ipv4 = ssc.socketTextStream(\"localhost\", 7778)\n",
    "lines_ipv6 = ssc.socketTextStream(\"localhost\", 7779)\n",
    "\n",
    "lines_ipv4.countByWindow(15, 5).map(lambda count: (None, count))\\\n",
    "    .join(lines_ipv6.countByWindow(20, 5).map(lambda count: (None, count)))\\\n",
    "    .map(lambda t: t[1][0]/t[1][1])\\\n",
    "    .map(lambda count: f\"For each ipv6 address there are {count} ipv4 addreses\").pprint()\n",
    "\n",
    "ssc.start()\n",
    "ssc.awaitTermination(20)\n",
    "ssc.stop()"
   ]
  }
 ],
 "metadata": {
  "kernelspec": {
   "display_name": "Python 3",
   "language": "python",
   "name": "python3"
  },
  "language_info": {
   "codemirror_mode": {
    "name": "ipython",
    "version": 3
   },
   "file_extension": ".py",
   "mimetype": "text/x-python",
   "name": "python",
   "nbconvert_exporter": "python",
   "pygments_lexer": "ipython3",
   "version": "3.10.6"
  },
  "orig_nbformat": 4,
  "vscode": {
   "interpreter": {
    "hash": "916dbcbb3f70747c44a77c7bcd40155683ae19c65e1c03b4aa3499c5328201f1"
   }
  }
 },
 "nbformat": 4,
 "nbformat_minor": 2
}
