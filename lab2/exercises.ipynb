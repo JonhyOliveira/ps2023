{
 "cells": [
  {
   "attachments": {},
   "cell_type": "markdown",
   "metadata": {},
   "source": [
    "# Setup"
   ]
  },
  {
   "cell_type": "code",
   "execution_count": null,
   "metadata": {},
   "outputs": [],
   "source": [
    "# imports\n",
    "\n",
    "import findspark\n",
    "import pyspark\n",
    "from pyspark.streaming import StreamingContext\n",
    "\n",
    "findspark.init()\n",
    "findspark.find()"
   ]
  },
  {
   "cell_type": "code",
   "execution_count": null,
   "metadata": {},
   "outputs": [],
   "source": [
    "# dropping context\n",
    "\n",
    "if 'sc' in locals():\n",
    "    sc.stop()\n",
    "if 'ssc' in locals() :\n",
    "    ssc.stop()\n",
    "\n",
    "# setting up context\n",
    "\n",
    "sc = pyspark.SparkContext(\"local[*]\")\n",
    "sc.setLogLevel(\"FATAL\")\n",
    "ssc = StreamingContext(sc, 1) # 1 sec mini-batches\n",
    "\n",
    "ssc.checkpoint(directory=\"spark_checkpoints\")"
   ]
  },
  {
   "cell_type": "markdown",
   "metadata": {
    "id": "THPCe5kkaEr-"
   },
   "source": [
    "---\n",
    "# Exercises\n",
    "\n",
    "## Exercise 1\n",
    "\n",
    "In a denial-of-service event it is important to identify the IP sources that might be attacking the system, by issuing a large number of requests.\n",
    "\n",
    "Write a program to find the IP sources that have done more than 50 requests in the last 10 seconds -- dump this information every 5 seconds. \n"
   ]
  },
  {
   "cell_type": "code",
   "execution_count": null,
   "metadata": {
    "id": "Dtav45IoQDzy"
   },
   "outputs": [],
   "source": [
    "lines = ssc.socketTextStream(\"localhost\", 7777)\n",
    "\n",
    "lines.filter(lambda line: len(line) > 0)\\\n",
    "    .map(lambda line: line.split(\" \")[1])\\\n",
    "    .countByValueAndWindow(10, 5)\\\n",
    "    .filter(lambda count: count[1] > 50)\\\n",
    "    .pprint()\n",
    "\n",
    "ssc.start()\n",
    "ssc.awaitTermination(60)\n",
    "ssc.stop()"
   ]
  },
  {
   "cell_type": "markdown",
   "metadata": {
    "id": "ZmM2Ey9YQEQw"
   },
   "source": [
    "## Exercise 2\n",
    "\n",
    "#### a)\n",
    "Write a program to dump the number of requests, minimum processing time, maximum processing time for request in the last 10 seconds, **for all** source IPs that performed more than 100 requests -- dump this information every 5 second.  "
   ]
  },
  {
   "cell_type": "code",
   "execution_count": null,
   "metadata": {
    "id": "4003eAI6QL86"
   },
   "outputs": [],
   "source": [
    "lines = ssc.socketTextStream(\"localhost\", 7777)\n",
    "\n",
    "more_than_100 = lines.filter(lambda line: len(line) > 0)\\\n",
    "    .map(lambda line: line.split(\" \")[1])\\\n",
    "    .countByValueAndWindow(10, 5)\\\n",
    "    .filter(lambda count: count[1] > 100)\n",
    "\n",
    "metrics = lines.filter(lambda line: len(line) > 0)\\\n",
    "    .map(lambda line: line.split(\" \"))\\\n",
    "    .map(lambda values: (values[1], (float(values[5]), float(values[5]))))\\\n",
    "    .reduceByKeyAndWindow(lambda rt1, rt2: (max(rt1[0], rt2[0]), min(rt1[1], rt2[1])), None, 10, 5)\n",
    "\n",
    "more_than_100.leftOuterJoin(metrics).pprint()\n",
    "\n",
    "ssc.start()\n",
    "ssc.awaitTermination(50)\n",
    "ssc.stop()"
   ]
  },
  {
   "cell_type": "markdown",
   "metadata": {
    "id": "prmPPodzDwL6"
   },
   "source": [
    "#### b)\n",
    "\n",
    "Write a program to dump the number of requests, minimum processing time, maximum processing time for request in the last 10 seconds, **only if at least one** source IP has performed more than 100 requests -- dump this information every 5 second."
   ]
  },
  {
   "cell_type": "code",
   "execution_count": null,
   "metadata": {
    "id": "NLXgZnC_DwoP"
   },
   "outputs": [],
   "source": [
    "lines = ssc.socketTextStream(\"localhost\", 7777)\n",
    "\n",
    "more_than_100 = lines.filter(lambda line: len(line) > 0)\\\n",
    "    .map(lambda line: line.split(\" \")[1])\\\n",
    "    .countByValueAndWindow(10, 5)\\\n",
    "    .filter(lambda count: count[1] > 100)\n",
    "\n",
    "metrics = lines.filter(lambda line: len(line) > 0)\\\n",
    "    .map(lambda line: line.split(\" \"))\\\n",
    "    .map(lambda values: (values[1], (float(values[5]), float(values[5]))))\\\n",
    "    .reduceByKeyAndWindow(lambda rt1, rt2: (max(rt1[0], rt2[0]), min(rt1[1], rt2[1])), None, 10, 5)\n",
    "\n",
    "more_than_100.leftOuterJoin(metrics).pprint()\n",
    "\n",
    "ssc.start()\n",
    "ssc.awaitTermination(50)\n",
    "ssc.stop()"
   ]
  },
  {
   "cell_type": "markdown",
   "metadata": {
    "id": "5yy3_7xpQMew"
   },
   "source": [
    "## Exercise 3\n",
    "Write a program to dump the IP sources that deviate most from the average in terms of the number of requests made in the last 30 seconds - dump this information every 5 seconds."
   ]
  },
  {
   "cell_type": "code",
   "execution_count": null,
   "metadata": {
    "id": "XegUvrgiQRfM"
   },
   "outputs": [],
   "source": [
    "lines = ssc.socketTextStream(\"localhost\", 7777)\n",
    "\n",
    "request_per_ip = lines.filter(lambda line: len(line) > 0)\\\n",
    "    .map(lambda line: line.split(\" \")[1])\\\n",
    "    .countByValueAndWindow(10, 5)\\\n",
    "    .transform(lambda rdd: rdd.zipWithIndex().map(lambda t: (t[0][1], t[1])))\\\n",
    "    .reduce(lambda t1, t2: (t1[0] + t2[0], max(t1[1], t2[1])))\\\n",
    "    .map(lambda t: t[0] / t[1])\n",
    "\n",
    "request_per_ip.pprint()\n",
    "\n",
    "ssc.start()\n",
    "ssc.awaitTermination(50)\n",
    "ssc.stop()"
   ]
  },
  {
   "cell_type": "markdown",
   "metadata": {
    "id": "B3Wg5aecQSFM"
   },
   "source": [
    "## Exercise 4\n",
    "\n",
    "Run additional logsender servers for subsets of the logs (IPv4 and IPv6 logs), using the following commands.\n",
    "\n",
    "```\n",
    "!nohup python logsender/server.py logsender/webipv4.log 7778 > /dev/null 2> /dev/null &\n",
    "!nohup python logsender/server.py logsender/webipv6.log 7779 > /dev/null 2> /dev/null &\n",
    "```\n",
    "\n",
    "Write a program that combines the two streams, dumping the number of requests made in the last 15 seconds - dump this information every 5 seconds."
   ]
  },
  {
   "cell_type": "code",
   "execution_count": null,
   "metadata": {
    "id": "nqCtmOZwRfUi"
   },
   "outputs": [],
   "source": []
  },
  {
   "cell_type": "markdown",
   "metadata": {
    "id": "ALselcFrRuYA"
   },
   "source": [
    "## Exercise 5\n",
    "\n",
    "Write a program that combines the two streams from the previous exercise and dumps the proportion of IPv4 vs IPv6 requests in the last 20 seconds - dump this information every 5 seconds.\n"
   ]
  },
  {
   "cell_type": "code",
   "execution_count": null,
   "metadata": {
    "id": "3ZcmfAVlR63v"
   },
   "outputs": [],
   "source": []
  }
 ],
 "metadata": {
  "kernelspec": {
   "display_name": "Python 3",
   "language": "python",
   "name": "python3"
  },
  "language_info": {
   "codemirror_mode": {
    "name": "ipython",
    "version": 3
   },
   "file_extension": ".py",
   "mimetype": "text/x-python",
   "name": "python",
   "nbconvert_exporter": "python",
   "pygments_lexer": "ipython3",
   "version": "3.10.6"
  },
  "orig_nbformat": 4,
  "vscode": {
   "interpreter": {
    "hash": "916dbcbb3f70747c44a77c7bcd40155683ae19c65e1c03b4aa3499c5328201f1"
   }
  }
 },
 "nbformat": 4,
 "nbformat_minor": 2
}
