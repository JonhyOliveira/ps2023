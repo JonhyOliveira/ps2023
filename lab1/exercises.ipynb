{
 "cells": [
  {
   "attachments": {},
   "cell_type": "markdown",
   "metadata": {},
   "source": [
    "# Setup\n",
    "* Start weblog server\n",
    "* Find spark instance"
   ]
  },
  {
   "cell_type": "code",
   "execution_count": 1,
   "metadata": {},
   "outputs": [
    {
     "name": "stdout",
     "output_type": "stream",
     "text": [
      "Server already running\n",
      "Spark is @ /home/joaooliv/.local/lib/python3.10/site-packages/pyspark\n"
     ]
    }
   ],
   "source": [
    "WEBLOG_PORT = 7777\n",
    "\n",
    "import findspark\n",
    "\n",
    "findspark.init()\n",
    "spark = findspark.find()\n",
    "\n",
    "import socket\n",
    "try:\n",
    "    socket.create_server(('', WEBLOG_PORT)).close()\n",
    "    import os\n",
    "    # Start Weblog server\n",
    "    os.system(f\"nohup python logsender/server.py logsender/web.log {WEBLOG_PORT} > /dev/null 2> /dev/null &\")\n",
    "    print(f\"Server started @ localhost:{WEBLOG_PORT}\")\n",
    "except OSError:\n",
    "    print(\"Server already running\")\n",
    "    pass\n",
    "print(\"Spark is @\", spark)"
   ]
  },
  {
   "attachments": {},
   "cell_type": "markdown",
   "metadata": {},
   "source": [
    "* setup context: this should be run between each exercise to reset the context, since we are closing the stream"
   ]
  },
  {
   "cell_type": "code",
   "execution_count": 12,
   "metadata": {},
   "outputs": [],
   "source": [
    "stream.stop() # if needed"
   ]
  },
  {
   "cell_type": "code",
   "execution_count": 13,
   "metadata": {},
   "outputs": [],
   "source": [
    "from pyspark import SparkContext\n",
    "\n",
    "sc = SparkContext(\"local[4]\", \"WebLogProcessor\")\n",
    "sc.setLogLevel(\"FATAL\")\n",
    "\n",
    "from pyspark.streaming import StreamingContext\n",
    "\n",
    "stream = StreamingContext(sc, 1)\n",
    "stream.checkpoint(\"checkpoints\")\n",
    "\n",
    "log = stream.socketTextStream(\"localhost\", WEBLOG_PORT)"
   ]
  },
  {
   "attachments": {},
   "cell_type": "markdown",
   "metadata": {},
   "source": [
    "----\n",
    "# Exercises\n",
    "\n",
    "Do the following exercises:\n",
    "\n",
    "Every 3 seconds,"
   ]
  },
  {
   "cell_type": "code",
   "execution_count": 4,
   "metadata": {},
   "outputs": [],
   "source": [
    "PRINT_PERIOD = 3"
   ]
  },
  {
   "attachments": {},
   "cell_type": "markdown",
   "metadata": {},
   "source": [
    "1. Dump the number of requests in the last 10 seconds;"
   ]
  },
  {
   "cell_type": "code",
   "execution_count": 5,
   "metadata": {},
   "outputs": [
    {
     "name": "stderr",
     "output_type": "stream",
     "text": [
      "                                                                                \r"
     ]
    },
    {
     "name": "stdout",
     "output_type": "stream",
     "text": [
      "-------------------------------------------\n",
      "Time: 2023-03-06 23:35:41\n",
      "-------------------------------------------\n",
      "278 processed in the last 10 seconds\n",
      "\n"
     ]
    },
    {
     "name": "stderr",
     "output_type": "stream",
     "text": [
      "                                                                                \r"
     ]
    },
    {
     "name": "stdout",
     "output_type": "stream",
     "text": [
      "-------------------------------------------\n",
      "Time: 2023-03-06 23:35:44\n",
      "-------------------------------------------\n",
      "498 processed in the last 10 seconds\n",
      "\n"
     ]
    },
    {
     "name": "stderr",
     "output_type": "stream",
     "text": [
      "                                                                                \r"
     ]
    },
    {
     "name": "stdout",
     "output_type": "stream",
     "text": [
      "-------------------------------------------\n",
      "Time: 2023-03-06 23:35:47\n",
      "-------------------------------------------\n",
      "1181 processed in the last 10 seconds\n",
      "\n"
     ]
    },
    {
     "name": "stderr",
     "output_type": "stream",
     "text": [
      "Exception in thread \"receiver-supervisor-future-0\" java.lang.InterruptedException: sleep interrupted\n",
      "\tat java.base/java.lang.Thread.sleep(Native Method)\n",
      "\tat org.apache.spark.streaming.receiver.ReceiverSupervisor.$anonfun$restartReceiver$1(ReceiverSupervisor.scala:196)\n",
      "\tat scala.runtime.java8.JFunction0$mcV$sp.apply(JFunction0$mcV$sp.java:23)\n",
      "\tat scala.concurrent.Future$.$anonfun$apply$1(Future.scala:659)\n",
      "\tat scala.util.Success.$anonfun$map$1(Try.scala:255)\n",
      "\tat scala.util.Success.map(Try.scala:213)\n",
      "\tat scala.concurrent.Future.$anonfun$map$1(Future.scala:292)\n",
      "\tat scala.concurrent.impl.Promise.liftedTree1$1(Promise.scala:33)\n",
      "\tat scala.concurrent.impl.Promise.$anonfun$transform$1(Promise.scala:33)\n",
      "\tat scala.concurrent.impl.CallbackRunnable.run(Promise.scala:64)\n",
      "\tat java.base/java.util.concurrent.ThreadPoolExecutor.runWorker(ThreadPoolExecutor.java:1136)\n",
      "\tat java.base/java.util.concurrent.ThreadPoolExecutor$Worker.run(ThreadPoolExecutor.java:635)\n",
      "\tat java.base/java.lang.Thread.run(Thread.java:833)\n"
     ]
    }
   ],
   "source": [
    "WINDOW_SIZE = 10\n",
    "\n",
    "log.window(WINDOW_SIZE, PRINT_PERIOD)\\\n",
    "    .count()\\\n",
    "    .map(lambda c: f\"{c} processed in the last {WINDOW_SIZE} seconds\")\\\n",
    "    .pprint()\n",
    "\n",
    "stream.start()\n",
    "stream.awaitTermination(10)\n",
    "stream.stop()"
   ]
  },
  {
   "attachments": {},
   "cell_type": "markdown",
   "metadata": {},
   "source": [
    "2. Dump the number of requests in the last 10 seconds, only if they total more than 100;"
   ]
  },
  {
   "cell_type": "code",
   "execution_count": 8,
   "metadata": {},
   "outputs": [
    {
     "name": "stderr",
     "output_type": "stream",
     "text": [
      "                                                                                \r"
     ]
    },
    {
     "name": "stdout",
     "output_type": "stream",
     "text": [
      "-------------------------------------------\n",
      "Time: 2023-03-06 23:36:04\n",
      "-------------------------------------------\n",
      "273 processed in the last 10 seconds\n",
      "\n"
     ]
    },
    {
     "name": "stderr",
     "output_type": "stream",
     "text": [
      "                                                                                \r"
     ]
    },
    {
     "name": "stdout",
     "output_type": "stream",
     "text": [
      "-------------------------------------------\n",
      "Time: 2023-03-06 23:36:07\n",
      "-------------------------------------------\n",
      "550 processed in the last 10 seconds\n",
      "\n"
     ]
    },
    {
     "name": "stderr",
     "output_type": "stream",
     "text": [
      "                                                                                \r"
     ]
    },
    {
     "name": "stdout",
     "output_type": "stream",
     "text": [
      "-------------------------------------------\n",
      "Time: 2023-03-06 23:36:10\n",
      "-------------------------------------------\n",
      "1094 processed in the last 10 seconds\n",
      "\n"
     ]
    },
    {
     "name": "stderr",
     "output_type": "stream",
     "text": [
      "Exception in thread \"receiver-supervisor-future-0\" java.lang.InterruptedException: sleep interrupted\n",
      "\tat java.base/java.lang.Thread.sleep(Native Method)\n",
      "\tat org.apache.spark.streaming.receiver.ReceiverSupervisor.$anonfun$restartReceiver$1(ReceiverSupervisor.scala:196)\n",
      "\tat scala.runtime.java8.JFunction0$mcV$sp.apply(JFunction0$mcV$sp.java:23)\n",
      "\tat scala.concurrent.Future$.$anonfun$apply$1(Future.scala:659)\n",
      "\tat scala.util.Success.$anonfun$map$1(Try.scala:255)\n",
      "\tat scala.util.Success.map(Try.scala:213)\n",
      "\tat scala.concurrent.Future.$anonfun$map$1(Future.scala:292)\n",
      "\tat scala.concurrent.impl.Promise.liftedTree1$1(Promise.scala:33)\n",
      "\tat scala.concurrent.impl.Promise.$anonfun$transform$1(Promise.scala:33)\n",
      "\tat scala.concurrent.impl.CallbackRunnable.run(Promise.scala:64)\n",
      "\tat java.base/java.util.concurrent.ThreadPoolExecutor.runWorker(ThreadPoolExecutor.java:1136)\n",
      "\tat java.base/java.util.concurrent.ThreadPoolExecutor$Worker.run(ThreadPoolExecutor.java:635)\n",
      "\tat java.base/java.lang.Thread.run(Thread.java:833)\n"
     ]
    }
   ],
   "source": [
    "WINDOW_SIZE = 10\n",
    "LOWER_BOUND = 100\n",
    "\n",
    "log.window(WINDOW_SIZE, PRINT_PERIOD)\\\n",
    "    .count()\\\n",
    "    .filter(lambda c: c > LOWER_BOUND)\\\n",
    "    .map(lambda c: f\"{c} processed in the last {WINDOW_SIZE} seconds\")\\\n",
    "    .pprint()\n",
    "\n",
    "stream.start()\n",
    "stream.awaitTermination(10)\n",
    "stream.stop()"
   ]
  },
  {
   "attachments": {},
   "cell_type": "markdown",
   "metadata": {},
   "source": [
    "3. Dump the number of requests in the last 10 seconds, if there is an IP address with more than 100 requests;"
   ]
  },
  {
   "cell_type": "code",
   "execution_count": 11,
   "metadata": {},
   "outputs": [
    {
     "name": "stderr",
     "output_type": "stream",
     "text": [
      "                                                                                \r"
     ]
    },
    {
     "name": "stdout",
     "output_type": "stream",
     "text": [
      "-------------------------------------------\n",
      "Time: 2023-03-06 23:36:26\n",
      "-------------------------------------------\n",
      "\n"
     ]
    },
    {
     "name": "stderr",
     "output_type": "stream",
     "text": [
      "                                                                                \r"
     ]
    },
    {
     "name": "stdout",
     "output_type": "stream",
     "text": [
      "-------------------------------------------\n",
      "Time: 2023-03-06 23:36:29\n",
      "-------------------------------------------\n",
      "WARNING! 120.52.73.97 made 107 requests in the last 10 seconds\n",
      "\n"
     ]
    },
    {
     "name": "stderr",
     "output_type": "stream",
     "text": [
      "                                                                                \r"
     ]
    },
    {
     "name": "stdout",
     "output_type": "stream",
     "text": [
      "-------------------------------------------\n",
      "Time: 2023-03-06 23:36:32\n",
      "-------------------------------------------\n",
      "WARNING! 178.22.148.122 made 156 requests in the last 10 seconds\n",
      "WARNING! 192.241.151.220 made 115 requests in the last 10 seconds\n",
      "WARNING! 97.77.104.22 made 124 requests in the last 10 seconds\n",
      "WARNING! 120.52.73.97 made 255 requests in the last 10 seconds\n",
      "WARNING! 120.52.73.98 made 187 requests in the last 10 seconds\n",
      "\n"
     ]
    },
    {
     "name": "stderr",
     "output_type": "stream",
     "text": [
      "Exception in thread \"receiver-supervisor-future-0\" java.lang.InterruptedException: sleep interrupted\n",
      "\tat java.base/java.lang.Thread.sleep(Native Method)\n",
      "\tat org.apache.spark.streaming.receiver.ReceiverSupervisor.$anonfun$restartReceiver$1(ReceiverSupervisor.scala:196)\n",
      "\tat scala.runtime.java8.JFunction0$mcV$sp.apply(JFunction0$mcV$sp.java:23)\n",
      "\tat scala.concurrent.Future$.$anonfun$apply$1(Future.scala:659)\n",
      "\tat scala.util.Success.$anonfun$map$1(Try.scala:255)\n",
      "\tat scala.util.Success.map(Try.scala:213)\n",
      "\tat scala.concurrent.Future.$anonfun$map$1(Future.scala:292)\n",
      "\tat scala.concurrent.impl.Promise.liftedTree1$1(Promise.scala:33)\n",
      "\tat scala.concurrent.impl.Promise.$anonfun$transform$1(Promise.scala:33)\n",
      "\tat scala.concurrent.impl.CallbackRunnable.run(Promise.scala:64)\n",
      "\tat java.base/java.util.concurrent.ThreadPoolExecutor.runWorker(ThreadPoolExecutor.java:1136)\n",
      "\tat java.base/java.util.concurrent.ThreadPoolExecutor$Worker.run(ThreadPoolExecutor.java:635)\n",
      "\tat java.base/java.lang.Thread.run(Thread.java:833)\n"
     ]
    }
   ],
   "source": [
    "WINDOW_SIZE = 10\n",
    "LOWER_BOUND = 100\n",
    "\n",
    "def extractIP(log_entry: str) -> str:\n",
    "    return log_entry.split(\" \")[1]\n",
    "\n",
    "log.map(extractIP)\\\n",
    "    .countByValueAndWindow(WINDOW_SIZE, PRINT_PERIOD, 1)\\\n",
    "    .filter(lambda tuple: tuple[1] > LOWER_BOUND)\\\n",
    "    .map(lambda tuple: f\"WARNING! {tuple[0]} made {tuple[1]} requests in the last {WINDOW_SIZE} seconds\")\\\n",
    "    .pprint()\n",
    "\n",
    "stream.start()\n",
    "stream.awaitTermination(10)\n",
    "stream.stop()"
   ]
  },
  {
   "attachments": {},
   "cell_type": "markdown",
   "metadata": {},
   "source": [
    "4. Dump the proportion of IPv4 vs IPv6 requests in the last 20 seconds."
   ]
  },
  {
   "cell_type": "code",
   "execution_count": 14,
   "metadata": {},
   "outputs": [
    {
     "name": "stderr",
     "output_type": "stream",
     "text": [
      "                                                                                \r"
     ]
    },
    {
     "name": "stdout",
     "output_type": "stream",
     "text": [
      "-------------------------------------------\n",
      "Time: 2023-03-06 23:36:52\n",
      "-------------------------------------------\n",
      "Processed 270 IPv4 addresses in the last 20 seconds\n",
      "Processed 8 IPv6 addresses in the last 20 seconds\n",
      "\n"
     ]
    },
    {
     "name": "stderr",
     "output_type": "stream",
     "text": [
      "                                                                                \r"
     ]
    },
    {
     "name": "stdout",
     "output_type": "stream",
     "text": [
      "-------------------------------------------\n",
      "Time: 2023-03-06 23:36:55\n",
      "-------------------------------------------\n",
      "Processed 601 IPv4 addresses in the last 20 seconds\n",
      "Processed 25 IPv6 addresses in the last 20 seconds\n",
      "\n"
     ]
    },
    {
     "name": "stderr",
     "output_type": "stream",
     "text": [
      "                                                                                \r"
     ]
    },
    {
     "name": "stdout",
     "output_type": "stream",
     "text": [
      "-------------------------------------------\n",
      "Time: 2023-03-06 23:36:58\n",
      "-------------------------------------------\n",
      "Processed 1058 IPv4 addresses in the last 20 seconds\n",
      "Processed 36 IPv6 addresses in the last 20 seconds\n",
      "\n"
     ]
    },
    {
     "name": "stderr",
     "output_type": "stream",
     "text": [
      "Exception in thread \"receiver-supervisor-future-0\" java.lang.InterruptedException: sleep interrupted\n",
      "\tat java.base/java.lang.Thread.sleep(Native Method)\n",
      "\tat org.apache.spark.streaming.receiver.ReceiverSupervisor.$anonfun$restartReceiver$1(ReceiverSupervisor.scala:196)\n",
      "\tat scala.runtime.java8.JFunction0$mcV$sp.apply(JFunction0$mcV$sp.java:23)\n",
      "\tat scala.concurrent.Future$.$anonfun$apply$1(Future.scala:659)\n",
      "\tat scala.util.Success.$anonfun$map$1(Try.scala:255)\n",
      "\tat scala.util.Success.map(Try.scala:213)\n",
      "\tat scala.concurrent.Future.$anonfun$map$1(Future.scala:292)\n",
      "\tat scala.concurrent.impl.Promise.liftedTree1$1(Promise.scala:33)\n",
      "\tat scala.concurrent.impl.Promise.$anonfun$transform$1(Promise.scala:33)\n",
      "\tat scala.concurrent.impl.CallbackRunnable.run(Promise.scala:64)\n",
      "\tat java.base/java.util.concurrent.ThreadPoolExecutor.runWorker(ThreadPoolExecutor.java:1136)\n",
      "\tat java.base/java.util.concurrent.ThreadPoolExecutor$Worker.run(ThreadPoolExecutor.java:635)\n",
      "\tat java.base/java.lang.Thread.run(Thread.java:833)\n"
     ]
    }
   ],
   "source": [
    "from ipaddress import ip_address, IPv4Address\n",
    "\n",
    "\n",
    "WINDOW_SIZE = 20\n",
    "\n",
    "def extractIPType(log_entry: str) -> str:\n",
    "    return \"IPv4\" if type(ip_address(log_entry.split(\" \")[1])) is IPv4Address else \"IPv6\"\n",
    "\n",
    "# def extractIP(log_entry: str) -> str:\n",
    "#     return log_entry.split(\" \")[1]\n",
    "\n",
    "log.map(extractIPType)\\\n",
    "    .countByValueAndWindow(WINDOW_SIZE, PRINT_PERIOD, 1)\\\n",
    "    .map(lambda tuple: f\"Processed {tuple[1]} {tuple[0]} addresses in the last {WINDOW_SIZE} seconds\")\\\n",
    "    .pprint()\n",
    "\n",
    "stream.start()\n",
    "stream.awaitTermination(10)\n",
    "stream.stop()"
   ]
  }
 ],
 "metadata": {
  "kernelspec": {
   "display_name": "Python 3",
   "language": "python",
   "name": "python3"
  },
  "language_info": {
   "codemirror_mode": {
    "name": "ipython",
    "version": 3
   },
   "file_extension": ".py",
   "mimetype": "text/x-python",
   "name": "python",
   "nbconvert_exporter": "python",
   "pygments_lexer": "ipython3",
   "version": "3.10.6"
  },
  "orig_nbformat": 4,
  "vscode": {
   "interpreter": {
    "hash": "916dbcbb3f70747c44a77c7bcd40155683ae19c65e1c03b4aa3499c5328201f1"
   }
  }
 },
 "nbformat": 4,
 "nbformat_minor": 2
}
